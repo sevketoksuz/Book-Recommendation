{
 "cells": [
  {
   "cell_type": "code",
   "execution_count": 26,
   "id": "11be0571",
   "metadata": {},
   "outputs": [],
   "source": [
    "import pandas as pd\n",
    "from surprise import Dataset, Reader, NMF\n",
    "from surprise.model_selection import train_test_split\n",
    "from surprise import accuracy\n",
    "from collections import defaultdict"
   ]
  },
  {
   "cell_type": "code",
   "execution_count": 27,
   "id": "9ce018d3",
   "metadata": {},
   "outputs": [],
   "source": [
    "ratings_df = pd.read_csv(\"../data/processed/ratings_explicit_only.csv\")\n",
    "books_df = pd.read_csv(\"../data/processed/books_final.csv\")\n",
    "\n",
    "ratings_df['ISBN'] = ratings_df['ISBN'].astype(str).str.strip()\n",
    "books_df['ISBN'] = books_df['ISBN'].astype(str).str.strip()"
   ]
  },
  {
   "cell_type": "code",
   "execution_count": 28,
   "id": "4d645b8d",
   "metadata": {},
   "outputs": [],
   "source": [
    "user_counts = ratings_df['User-ID'].value_counts()\n",
    "book_counts = ratings_df['ISBN'].value_counts()\n",
    "\n",
    "active_users = user_counts[user_counts >= 10].index\n",
    "popular_books = book_counts[book_counts >= 10].index\n",
    "\n",
    "ratings_df = ratings_df[\n",
    "    (ratings_df['User-ID'].isin(active_users)) &\n",
    "    (ratings_df['ISBN'].isin(popular_books))\n",
    "]\n",
    "\n",
    "books_df = books_df[books_df['ISBN'].isin(ratings_df['ISBN'])]"
   ]
  },
  {
   "cell_type": "code",
   "execution_count": 29,
   "id": "ca24e706",
   "metadata": {},
   "outputs": [],
   "source": [
    "reader = Reader(rating_scale=(1, 10))\n",
    "data = Dataset.load_from_df(ratings_df[[\"User-ID\", \"ISBN\", \"Rating\"]], reader)"
   ]
  },
  {
   "cell_type": "code",
   "execution_count": 30,
   "id": "bfcba56b",
   "metadata": {},
   "outputs": [
    {
     "data": {
      "text/plain": [
       "<surprise.prediction_algorithms.matrix_factorization.NMF at 0x217b360bc50>"
      ]
     },
     "execution_count": 30,
     "metadata": {},
     "output_type": "execute_result"
    }
   ],
   "source": [
    "trainset, testset = train_test_split(data, test_size=0.2, random_state=42)\n",
    "\n",
    "model = NMF(n_factors=20, random_state=42)\n",
    "model.fit(trainset)"
   ]
  },
  {
   "cell_type": "code",
   "execution_count": 31,
   "id": "5fdc1b2b",
   "metadata": {},
   "outputs": [
    {
     "name": "stdout",
     "output_type": "stream",
     "text": [
      "RMSE: 2.1190\n"
     ]
    }
   ],
   "source": [
    "predictions = model.test(testset)\n",
    "rmse = accuracy.rmse(predictions)"
   ]
  },
  {
   "cell_type": "code",
   "execution_count": 32,
   "id": "6ca21787",
   "metadata": {},
   "outputs": [],
   "source": [
    "def precision_at_k(predictions, k=10, threshold=7.0):\n",
    "    from collections import defaultdict\n",
    "    user_est_true = defaultdict(list)\n",
    "    \n",
    "    for uid, iid, true_r, est, _ in predictions:\n",
    "        user_est_true[uid].append((est, true_r))\n",
    "    \n",
    "    precisions = []\n",
    "    for uid, user_ratings in user_est_true.items():\n",
    "        user_ratings.sort(key=lambda x: x[0], reverse=True)\n",
    "        top_k = user_ratings[:k]\n",
    "        \n",
    "        hits = sum((true_r >= threshold) for (_, true_r) in top_k)\n",
    "        precisions.append(hits / k)\n",
    "    \n",
    "    return sum(precisions) / len(precisions)"
   ]
  },
  {
   "cell_type": "code",
   "execution_count": 33,
   "id": "01d038e4",
   "metadata": {},
   "outputs": [
    {
     "name": "stdout",
     "output_type": "stream",
     "text": [
      "Precision@10: 0.2533\n"
     ]
    }
   ],
   "source": [
    "p_at_10 = precision_at_k(predictions, k=10, threshold=7.0)\n",
    "print(f\"Precision@10: {p_at_10:.4f}\")"
   ]
  },
  {
   "cell_type": "code",
   "execution_count": 34,
   "id": "4b9d593b",
   "metadata": {},
   "outputs": [],
   "source": [
    "def get_unrated_books(user_id, ratings_df, all_books):\n",
    "    rated = ratings_df[ratings_df['User-ID'] == user_id]['ISBN'].tolist()\n",
    "    return [isbn for isbn in all_books if isbn not in rated]\n",
    "\n",
    "def recommend_top_n_for_user(user_id, model, ratings_df, books_df, n=10):\n",
    "    all_books = books_df['ISBN'].tolist()\n",
    "    unrated_books = get_unrated_books(user_id, ratings_df, all_books)\n",
    "\n",
    "    predictions = [model.predict(user_id, isbn) for isbn in unrated_books]\n",
    "    predictions.sort(key=lambda x: x.est, reverse=True)\n",
    "\n",
    "    return [(user_id, pred.iid, pred.est) for pred in predictions[:n]]"
   ]
  },
  {
   "cell_type": "code",
   "execution_count": 36,
   "id": "702e6daf",
   "metadata": {},
   "outputs": [],
   "source": [
    "def recommend_all_users(model, ratings_df, books_df, n=10):\n",
    "    user_ids = ratings_df['User-ID'].unique()\n",
    "    all_recommendations = []\n",
    "\n",
    "    for uid in user_ids:\n",
    "        user_recs = recommend_top_n_for_user(uid, model, ratings_df, books_df, n)\n",
    "        all_recommendations.extend(user_recs)\n",
    "\n",
    "    return pd.DataFrame(all_recommendations, columns=[\"User-ID\", \"ISBN\", \"PredictedRating\"])"
   ]
  },
  {
   "cell_type": "code",
   "execution_count": 37,
   "id": "4cbdb3c3",
   "metadata": {},
   "outputs": [],
   "source": [
    "recommendations_df = recommend_all_users(model, ratings_df, books_df, n=10)\n",
    "recommendations_df.to_csv(\"../outputs/nmf_recommendations.csv\", index=False)"
   ]
  },
  {
   "cell_type": "code",
   "execution_count": 42,
   "id": "b038c8ac",
   "metadata": {},
   "outputs": [
    {
     "name": "stdout",
     "output_type": "stream",
     "text": [
      "Top 10 recommendations for User 177862:\n",
      "\n",
      "Redeeming Love (Predicted Rating: 9.77)\n",
      "Once a Princess (Predicted Rating: 9.57)\n",
      "Watchers (Predicted Rating: 9.53)\n",
      "Chicken Soup for the Kid's Soul : 101 Stories of Courage, Hope and Laughter (Chicken Soup for the Soul (Paperback Health Communications)) (Predicted Rating: 9.39)\n",
      "The Little Prince (Wordsworth Collection) (Predicted Rating: 9.36)\n",
      "The Secret Garden (Predicted Rating: 9.08)\n",
      "Talk Before Sleep (Predicted Rating: 9.06)\n",
      "Wolves of the Calla (The Dark Tower, Book 5) (Predicted Rating: 8.94)\n",
      "Ophelia Speaks : Adolescent Girls Write About Their Search for Self (Predicted Rating: 8.89)\n",
      "Dracula (Bantam Classics) (Predicted Rating: 8.8)\n"
     ]
    }
   ],
   "source": [
    "book_title_map = dict(zip(books_df['ISBN'], books_df['Title']))\n",
    "\n",
    "target_user = ratings_df['User-ID'].sample(4).iloc[0]\n",
    "recs = recommend_top_n_for_user(target_user, model, ratings_df, books_df)\n",
    "\n",
    "print(f\"Top 10 recommendations for User {target_user}:\\n\")\n",
    "for uid, isbn, est_rating in recs:\n",
    "    title = book_title_map.get(isbn, \"Unknown Title\")\n",
    "    print(f\"{title} (Predicted Rating: {round(est_rating, 2)})\")"
   ]
  },
  {
   "cell_type": "markdown",
   "id": "ae8c1fc6",
   "metadata": {},
   "source": [
    "## Collaborative Filtering with NMF – Final Implementation Summary\n",
    "\n",
    "In this notebook, we implemented and optimized an explicit collaborative filtering system using Non-negative Matrix Factorization (NMF). The approach was designed in accordance with the strategy defined during the initial data inspection phase.\n",
    "\n",
    "### Problem with Initial Implementation:\n",
    "- Due to the highly sparse nature of the dataset (0.0038% density), many users received fewer than 10 recommendations.\n",
    "- The standard `train_test_split` based evaluation in Surprise was limited in coverage and did not ensure consistent Top-N recommendations.\n",
    "\n",
    "### Improvements Applied:\n",
    "- Filtered the dataset to include only:\n",
    "  - Users with at least 10 ratings\n",
    "  - Books with at least 10 ratings\n",
    "- Normalized all ISBN values to avoid mismatches\n",
    "- Trained an NMF model using Surprise with 20 latent factors\n",
    "- Implemented a custom Top-N generation function that:\n",
    "  - Retrieves all books a user has not rated\n",
    "  - Predicts ratings using the trained model\n",
    "  - Returns the top N items based on predicted score\n",
    "\n",
    "### Evaluation:\n",
    "- RMSE was calculated on the test set\n",
    "- A custom Precision@10 function was applied to assess recommendation ranking performance\n",
    "- Results showed significantly improved recommendation quality and consistency\n",
    "\n",
    "### Output:\n",
    "- Final user-item recommendations were saved to a CSV file (`nmf_recommendations.csv`)\n",
    "- An example output was displayed for a randomly selected user, including actual book titles and predicted ratings\n",
    "\n",
    "This notebook concludes the collaborative filtering phase of the project. The next step will focus on implementing a content-based filtering system to handle cold-start cases and further enhance the recommendation pipeline.\n"
   ]
  }
 ],
 "metadata": {
  "kernelspec": {
   "display_name": "base",
   "language": "python",
   "name": "python3"
  },
  "language_info": {
   "codemirror_mode": {
    "name": "ipython",
    "version": 3
   },
   "file_extension": ".py",
   "mimetype": "text/x-python",
   "name": "python",
   "nbconvert_exporter": "python",
   "pygments_lexer": "ipython3",
   "version": "3.11.7"
  }
 },
 "nbformat": 4,
 "nbformat_minor": 5
}
