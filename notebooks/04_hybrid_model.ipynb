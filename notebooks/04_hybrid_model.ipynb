{
 "cells": [
  {
   "cell_type": "code",
   "execution_count": 15,
   "id": "789f3563",
   "metadata": {},
   "outputs": [],
   "source": [
    "import sys\n",
    "import os\n",
    "\n",
    "sys.path.append(os.path.abspath(\"../src\"))"
   ]
  },
  {
   "cell_type": "code",
   "execution_count": 16,
   "id": "48cbed32",
   "metadata": {},
   "outputs": [],
   "source": [
    "import pandas as pd\n",
    "import numpy as np\n",
    "from sklearn.feature_extraction.text import TfidfVectorizer\n",
    "\n",
    "from hybrid.recommend_hybrid import recommend_hybrid\n",
    "\n",
    "from surprise import Dataset, Reader, NMF"
   ]
  },
  {
   "cell_type": "code",
   "execution_count": 17,
   "id": "ec41e38c",
   "metadata": {},
   "outputs": [],
   "source": [
    "ratings_df = pd.read_csv(\"../data/processed/ratings_final.csv\")\n",
    "books_df = pd.read_csv(\"../data/processed/books_final.csv\")\n",
    "top_books_df = pd.read_csv(\"../outputs/top_books_by_count.csv\")"
   ]
  },
  {
   "cell_type": "code",
   "execution_count": 18,
   "id": "6dba075f",
   "metadata": {},
   "outputs": [],
   "source": [
    "ratings_df['ISBN'] = ratings_df['ISBN'].astype(str).str.strip()\n",
    "books_df['ISBN'] = books_df['ISBN'].astype(str).str.strip()\n",
    "top_books_df['ISBN'] = top_books_df['ISBN'].astype(str).str.strip()"
   ]
  },
  {
   "cell_type": "code",
   "execution_count": 19,
   "id": "276048a1",
   "metadata": {},
   "outputs": [],
   "source": [
    "reader = Reader(rating_scale=(1, 10))\n",
    "data = Dataset.load_from_df(ratings_df[[\"User-ID\", \"ISBN\", \"Rating\"]], reader)\n",
    "trainset = data.build_full_trainset()\n",
    "model_cf = NMF(n_factors=20, random_state=42).fit(trainset)"
   ]
  },
  {
   "cell_type": "code",
   "execution_count": 20,
   "id": "87cb0c9f",
   "metadata": {},
   "outputs": [],
   "source": [
    "books_df[\"text_features\"] = (\n",
    "    books_df[\"Title\"].fillna(\"\") + \" \" +\n",
    "    books_df[\"Author\"].fillna(\"\") + \" \" +\n",
    "    books_df[\"Publisher\"].fillna(\"\")\n",
    ")\n",
    "\n",
    "tfidf = TfidfVectorizer(stop_words=\"english\", ngram_range=(1, 2), max_features=5000)\n",
    "tfidf_matrix = tfidf.fit_transform(books_df[\"text_features\"])\n",
    "indices = pd.Series(books_df.index, index=books_df[\"ISBN\"])"
   ]
  },
  {
   "cell_type": "code",
   "execution_count": 60,
   "id": "3992285f",
   "metadata": {},
   "outputs": [
    {
     "name": "stdout",
     "output_type": "stream",
     "text": [
      "\n",
      "===== Recommendations for User 6251 =====\n"
     ]
    },
    {
     "data": {
      "text/html": [
       "<div>\n",
       "<style scoped>\n",
       "    .dataframe tbody tr th:only-of-type {\n",
       "        vertical-align: middle;\n",
       "    }\n",
       "\n",
       "    .dataframe tbody tr th {\n",
       "        vertical-align: top;\n",
       "    }\n",
       "\n",
       "    .dataframe thead th {\n",
       "        text-align: right;\n",
       "    }\n",
       "</style>\n",
       "<table border=\"1\" class=\"dataframe\">\n",
       "  <thead>\n",
       "    <tr style=\"text-align: right;\">\n",
       "      <th></th>\n",
       "      <th>User-ID</th>\n",
       "      <th>Title</th>\n",
       "      <th>Score</th>\n",
       "      <th>Source</th>\n",
       "    </tr>\n",
       "  </thead>\n",
       "  <tbody>\n",
       "    <tr>\n",
       "      <th>0</th>\n",
       "      <td>6251</td>\n",
       "      <td>101 Dalmatians</td>\n",
       "      <td>10</td>\n",
       "      <td>CF</td>\n",
       "    </tr>\n",
       "    <tr>\n",
       "      <th>1</th>\n",
       "      <td>6251</td>\n",
       "      <td>Lady of Desire</td>\n",
       "      <td>10</td>\n",
       "      <td>CF</td>\n",
       "    </tr>\n",
       "    <tr>\n",
       "      <th>2</th>\n",
       "      <td>6251</td>\n",
       "      <td>Mariette in Ecstasy</td>\n",
       "      <td>10</td>\n",
       "      <td>CF</td>\n",
       "    </tr>\n",
       "    <tr>\n",
       "      <th>3</th>\n",
       "      <td>6251</td>\n",
       "      <td>Ben &amp; Jerry's Homemade Ice Cream &amp;amp; Dessert...</td>\n",
       "      <td>10</td>\n",
       "      <td>CF</td>\n",
       "    </tr>\n",
       "    <tr>\n",
       "      <th>4</th>\n",
       "      <td>6251</td>\n",
       "      <td>Les Heures / The Hours</td>\n",
       "      <td>10</td>\n",
       "      <td>CF</td>\n",
       "    </tr>\n",
       "    <tr>\n",
       "      <th>5</th>\n",
       "      <td>6251</td>\n",
       "      <td>Gone Too Far</td>\n",
       "      <td>10</td>\n",
       "      <td>CF</td>\n",
       "    </tr>\n",
       "    <tr>\n",
       "      <th>6</th>\n",
       "      <td>6251</td>\n",
       "      <td>The National Parks : A Postcard Folio Book</td>\n",
       "      <td>10</td>\n",
       "      <td>CF</td>\n",
       "    </tr>\n",
       "    <tr>\n",
       "      <th>7</th>\n",
       "      <td>6251</td>\n",
       "      <td>Deception on His Mind</td>\n",
       "      <td>10</td>\n",
       "      <td>CF</td>\n",
       "    </tr>\n",
       "    <tr>\n",
       "      <th>8</th>\n",
       "      <td>6251</td>\n",
       "      <td>The Crucible: A Play in Four Acts (Twentieth-C...</td>\n",
       "      <td>10</td>\n",
       "      <td>CF</td>\n",
       "    </tr>\n",
       "    <tr>\n",
       "      <th>9</th>\n",
       "      <td>6251</td>\n",
       "      <td>The Official Scrabble Players Dictionary (Thir...</td>\n",
       "      <td>10</td>\n",
       "      <td>CF</td>\n",
       "    </tr>\n",
       "  </tbody>\n",
       "</table>\n",
       "</div>"
      ],
      "text/plain": [
       "   User-ID                                              Title  Score Source\n",
       "0     6251                                     101 Dalmatians     10     CF\n",
       "1     6251                                     Lady of Desire     10     CF\n",
       "2     6251                                Mariette in Ecstasy     10     CF\n",
       "3     6251  Ben & Jerry's Homemade Ice Cream &amp; Dessert...     10     CF\n",
       "4     6251                             Les Heures / The Hours     10     CF\n",
       "5     6251                                       Gone Too Far     10     CF\n",
       "6     6251         The National Parks : A Postcard Folio Book     10     CF\n",
       "7     6251                              Deception on His Mind     10     CF\n",
       "8     6251  The Crucible: A Play in Four Acts (Twentieth-C...     10     CF\n",
       "9     6251  The Official Scrabble Players Dictionary (Thir...     10     CF"
      ]
     },
     "metadata": {},
     "output_type": "display_data"
    }
   ],
   "source": [
    "user_ids = [\n",
    "    ratings_df['User-ID'].sample(1).iloc[0],\n",
    "    #1234567890 imaginary user for popularity recommendations\n",
    "    #39400 user for CBF\n",
    "]\n",
    "\n",
    "for uid in user_ids:\n",
    "    print(f\"\\n===== Recommendations for User {uid} =====\")\n",
    "    recs = recommend_hybrid(\n",
    "        user_id=uid,\n",
    "        ratings_df=ratings_df,\n",
    "        books_df=books_df,\n",
    "        model_cf=model_cf,\n",
    "        tfidf_matrix=tfidf_matrix,\n",
    "        indices=indices,\n",
    "        top_books_df=top_books_df,\n",
    "        n=10\n",
    "    )\n",
    "    display(recs)"
   ]
  },
  {
   "cell_type": "markdown",
   "id": "b1651142",
   "metadata": {},
   "source": [
    "##  Hybrid Recommendation System Summary\n",
    "\n",
    "This notebook demonstrates a modular hybrid recommender system that combines:\n",
    "\n",
    "- **Collaborative Filtering (CF)** using NMF\n",
    "- **Content-Based Filtering (CBF)** using TF-IDF + Cosine Similarity\n",
    "- **Popularity-Based Recommendations** as fallback\n",
    "\n",
    "Each model is encapsulated in its own module and combined via a smart decision function `recommend_hybrid()`, which selects the best method based on the user's rating history.\n",
    "\n",
    "---\n",
    "\n",
    "##  Logic Behind Hybrid Switching Strategy\n",
    "\n",
    "| User Type         | Criteria                          | Recommendation Source |\n",
    "|------------------|-----------------------------------|------------------------|\n",
    "| Active User       | ≥ 10 ratings                      | CF (Collaborative Filtering) |\n",
    "| Mid-level User    | 1–9 ratings                       | CBF (Content-Based) |\n",
    "| New User          | 0 ratings                         | Popularity (Top-N) |\n",
    "\n",
    "Fallback logic ensures recommendations are always returned.\n",
    "\n",
    "---\n",
    "##  Testing & Evaluation\n",
    "\n",
    "- Hybrid function was tested on multiple user profiles\n",
    "- Fallback behavior (CBF, Popularity) works as expected\n",
    "- Matrix sparsity and cold-start issues are mitigated\n",
    "- Output includes `User-ID`, `Title`, `Score`, `Source`\n"
   ]
  },
  {
   "cell_type": "markdown",
   "id": "a4d37a82",
   "metadata": {},
   "source": []
  }
 ],
 "metadata": {
  "kernelspec": {
   "display_name": "base",
   "language": "python",
   "name": "python3"
  },
  "language_info": {
   "codemirror_mode": {
    "name": "ipython",
    "version": 3
   },
   "file_extension": ".py",
   "mimetype": "text/x-python",
   "name": "python",
   "nbconvert_exporter": "python",
   "pygments_lexer": "ipython3",
   "version": "3.11.7"
  }
 },
 "nbformat": 4,
 "nbformat_minor": 5
}
