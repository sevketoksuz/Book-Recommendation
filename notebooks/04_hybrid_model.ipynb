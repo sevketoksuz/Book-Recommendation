{
 "cells": [
  {
   "cell_type": "code",
   "execution_count": 1,
   "id": "789f3563",
   "metadata": {},
   "outputs": [],
   "source": [
    "import sys\n",
    "import os\n",
    "\n",
    "sys.path.append(os.path.abspath(\"../src\"))"
   ]
  },
  {
   "cell_type": "code",
   "execution_count": 2,
   "id": "48cbed32",
   "metadata": {},
   "outputs": [],
   "source": [
    "import pandas as pd\n",
    "import numpy as np\n",
    "from sklearn.feature_extraction.text import TfidfVectorizer\n",
    "\n",
    "from hybrid.recommend_hybrid import recommend_hybrid\n",
    "\n",
    "from surprise import Dataset, Reader, NMF"
   ]
  },
  {
   "cell_type": "code",
   "execution_count": 3,
   "id": "ec41e38c",
   "metadata": {},
   "outputs": [],
   "source": [
    "ratings_df = pd.read_csv(\"../data/processed/ratings_final.csv\")\n",
    "books_df = pd.read_csv(\"../data/processed/books_final.csv\")\n",
    "top_books_df = pd.read_csv(\"../outputs/top_books_by_count.csv\")"
   ]
  },
  {
   "cell_type": "code",
   "execution_count": 4,
   "id": "6dba075f",
   "metadata": {},
   "outputs": [],
   "source": [
    "ratings_df['ISBN'] = ratings_df['ISBN'].astype(str).str.strip()\n",
    "books_df['ISBN'] = books_df['ISBN'].astype(str).str.strip()\n",
    "top_books_df['ISBN'] = top_books_df['ISBN'].astype(str).str.strip()"
   ]
  },
  {
   "cell_type": "code",
   "execution_count": 5,
   "id": "276048a1",
   "metadata": {},
   "outputs": [],
   "source": [
    "reader = Reader(rating_scale=(1, 10))\n",
    "data = Dataset.load_from_df(ratings_df[[\"User-ID\", \"ISBN\", \"Rating\"]], reader)\n",
    "trainset = data.build_full_trainset()\n",
    "model_cf = NMF(n_factors=20, random_state=42).fit(trainset)"
   ]
  },
  {
   "cell_type": "code",
   "execution_count": 6,
   "id": "87cb0c9f",
   "metadata": {},
   "outputs": [],
   "source": [
    "books_df[\"text_features\"] = (\n",
    "    books_df[\"Title\"].fillna(\"\") + \" \" +\n",
    "    books_df[\"Author\"].fillna(\"\") + \" \" +\n",
    "    books_df[\"Publisher\"].fillna(\"\")\n",
    ")\n",
    "\n",
    "tfidf = TfidfVectorizer(stop_words=\"english\", ngram_range=(1, 2), max_features=5000)\n",
    "tfidf_matrix = tfidf.fit_transform(books_df[\"text_features\"])\n",
    "indices = pd.Series(books_df.index, index=books_df[\"ISBN\"])"
   ]
  },
  {
   "cell_type": "code",
   "execution_count": null,
   "id": "3992285f",
   "metadata": {},
   "outputs": [
    {
     "name": "stdout",
     "output_type": "stream",
     "text": [
      "\n",
      "===== Recommendations for User 39400 =====\n"
     ]
    },
    {
     "data": {
      "text/html": [
       "<div>\n",
       "<style scoped>\n",
       "    .dataframe tbody tr th:only-of-type {\n",
       "        vertical-align: middle;\n",
       "    }\n",
       "\n",
       "    .dataframe tbody tr th {\n",
       "        vertical-align: top;\n",
       "    }\n",
       "\n",
       "    .dataframe thead th {\n",
       "        text-align: right;\n",
       "    }\n",
       "</style>\n",
       "<table border=\"1\" class=\"dataframe\">\n",
       "  <thead>\n",
       "    <tr style=\"text-align: right;\">\n",
       "      <th></th>\n",
       "      <th>User-ID</th>\n",
       "      <th>Title</th>\n",
       "      <th>Score</th>\n",
       "      <th>Source</th>\n",
       "    </tr>\n",
       "  </thead>\n",
       "  <tbody>\n",
       "    <tr>\n",
       "      <th>8155</th>\n",
       "      <td>39400</td>\n",
       "      <td>Ripley's Game (Vintage Crime/Black Lizard)</td>\n",
       "      <td>0.931671</td>\n",
       "      <td>CBF</td>\n",
       "    </tr>\n",
       "    <tr>\n",
       "      <th>9055</th>\n",
       "      <td>39400</td>\n",
       "      <td>Ripley Under Water (Vintage Crime/Black Lizard)</td>\n",
       "      <td>0.930162</td>\n",
       "      <td>CBF</td>\n",
       "    </tr>\n",
       "    <tr>\n",
       "      <th>3848</th>\n",
       "      <td>39400</td>\n",
       "      <td>The Thin Man (Vintage Crime/Black Lizard)</td>\n",
       "      <td>0.850586</td>\n",
       "      <td>CBF</td>\n",
       "    </tr>\n",
       "    <tr>\n",
       "      <th>5563</th>\n",
       "      <td>39400</td>\n",
       "      <td>Fletch (Vintage Crime/Black Lizard)</td>\n",
       "      <td>0.835191</td>\n",
       "      <td>CBF</td>\n",
       "    </tr>\n",
       "    <tr>\n",
       "      <th>2063</th>\n",
       "      <td>39400</td>\n",
       "      <td>The Maltese Falcon (Vintage Crime/Black Lizard)</td>\n",
       "      <td>0.800430</td>\n",
       "      <td>CBF</td>\n",
       "    </tr>\n",
       "    <tr>\n",
       "      <th>6501</th>\n",
       "      <td>39400</td>\n",
       "      <td>Dead Lagoon: An Aurelio Zen Mystery (Vintage C...</td>\n",
       "      <td>0.764768</td>\n",
       "      <td>CBF</td>\n",
       "    </tr>\n",
       "    <tr>\n",
       "      <th>12258</th>\n",
       "      <td>39400</td>\n",
       "      <td>A Coffin for Dimitrios (Vintage Crime/Black Li...</td>\n",
       "      <td>0.756763</td>\n",
       "      <td>CBF</td>\n",
       "    </tr>\n",
       "    <tr>\n",
       "      <th>10732</th>\n",
       "      <td>39400</td>\n",
       "      <td>Pop. 1280 (Vintage Crime/Black Lizard)</td>\n",
       "      <td>0.754447</td>\n",
       "      <td>CBF</td>\n",
       "    </tr>\n",
       "    <tr>\n",
       "      <th>5127</th>\n",
       "      <td>39400</td>\n",
       "      <td>Farewell, My Lovely (Vintage Crime/Black Lizard)</td>\n",
       "      <td>0.747850</td>\n",
       "      <td>CBF</td>\n",
       "    </tr>\n",
       "    <tr>\n",
       "      <th>9776</th>\n",
       "      <td>39400</td>\n",
       "      <td>When I Was Puerto Rican</td>\n",
       "      <td>0.490502</td>\n",
       "      <td>CBF</td>\n",
       "    </tr>\n",
       "  </tbody>\n",
       "</table>\n",
       "</div>"
      ],
      "text/plain": [
       "       User-ID                                              Title     Score  \\\n",
       "8155     39400         Ripley's Game (Vintage Crime/Black Lizard)  0.931671   \n",
       "9055     39400    Ripley Under Water (Vintage Crime/Black Lizard)  0.930162   \n",
       "3848     39400          The Thin Man (Vintage Crime/Black Lizard)  0.850586   \n",
       "5563     39400                Fletch (Vintage Crime/Black Lizard)  0.835191   \n",
       "2063     39400    The Maltese Falcon (Vintage Crime/Black Lizard)  0.800430   \n",
       "6501     39400  Dead Lagoon: An Aurelio Zen Mystery (Vintage C...  0.764768   \n",
       "12258    39400  A Coffin for Dimitrios (Vintage Crime/Black Li...  0.756763   \n",
       "10732    39400             Pop. 1280 (Vintage Crime/Black Lizard)  0.754447   \n",
       "5127     39400   Farewell, My Lovely (Vintage Crime/Black Lizard)  0.747850   \n",
       "9776     39400                            When I Was Puerto Rican  0.490502   \n",
       "\n",
       "      Source  \n",
       "8155     CBF  \n",
       "9055     CBF  \n",
       "3848     CBF  \n",
       "5563     CBF  \n",
       "2063     CBF  \n",
       "6501     CBF  \n",
       "12258    CBF  \n",
       "10732    CBF  \n",
       "5127     CBF  \n",
       "9776     CBF  "
      ]
     },
     "metadata": {},
     "output_type": "display_data"
    }
   ],
   "source": [
    "user_ids = [\n",
    "    #ratings_df['User-ID'].sample(1).iloc[0],\n",
    "    #1234567890 imaginary user for popularity recommendations\n",
    "    #39400 user for CBF\n",
    "]\n",
    "\n",
    "for uid in user_ids:\n",
    "    print(f\"\\n===== Recommendations for User {uid} =====\")\n",
    "    recs = recommend_hybrid(\n",
    "        user_id=uid,\n",
    "        ratings_df=ratings_df,\n",
    "        books_df=books_df,\n",
    "        model_cf=model_cf,\n",
    "        tfidf_matrix=tfidf_matrix,\n",
    "        indices=indices,\n",
    "        top_books_df=top_books_df,\n",
    "        n=10\n",
    "    )\n",
    "    display(recs)"
   ]
  },
  {
   "cell_type": "code",
   "execution_count": null,
   "id": "1c757e8c",
   "metadata": {},
   "outputs": [],
   "source": []
  }
 ],
 "metadata": {
  "kernelspec": {
   "display_name": "base",
   "language": "python",
   "name": "python3"
  },
  "language_info": {
   "codemirror_mode": {
    "name": "ipython",
    "version": 3
   },
   "file_extension": ".py",
   "mimetype": "text/x-python",
   "name": "python",
   "nbconvert_exporter": "python",
   "pygments_lexer": "ipython3",
   "version": "3.11.7"
  }
 },
 "nbformat": 4,
 "nbformat_minor": 5
}
