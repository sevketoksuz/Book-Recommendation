{
 "cells": [
  {
   "cell_type": "code",
   "execution_count": 36,
   "id": "e25060f7",
   "metadata": {},
   "outputs": [],
   "source": [
    "import pandas as pd"
   ]
  },
  {
   "cell_type": "code",
   "execution_count": 37,
   "id": "3d0d2ad2",
   "metadata": {},
   "outputs": [
    {
     "name": "stderr",
     "output_type": "stream",
     "text": [
      "C:\\Users\\ŞEVKET\\AppData\\Local\\Temp\\ipykernel_11840\\1924555899.py:3: DtypeWarning: Columns (0) have mixed types. Specify dtype option on import or set low_memory=False.\n",
      "  users_df = pd.read_csv(\"../data/raw/Users.csv\", sep=\";\")\n"
     ]
    }
   ],
   "source": [
    "books_df = pd.read_csv(\"../data/raw/Books.csv\", sep=\";\")\n",
    "ratings_df = pd.read_csv(\"../data/raw/Ratings.csv\", sep=\";\")\n",
    "users_df = pd.read_csv(\"../data/raw/Users.csv\", sep=\";\")"
   ]
  },
  {
   "cell_type": "code",
   "execution_count": 38,
   "id": "92f3e03e",
   "metadata": {},
   "outputs": [
    {
     "name": "stdout",
     "output_type": "stream",
     "text": [
      "\n",
      " Books Dataset\n",
      "----------\n",
      "Shape: (271379, 5)\n",
      "Columns: ['ISBN', 'Title', 'Author', 'Year', 'Publisher']\n",
      "\n",
      "Head:\n"
     ]
    },
    {
     "data": {
      "text/html": [
       "<div>\n",
       "<style scoped>\n",
       "    .dataframe tbody tr th:only-of-type {\n",
       "        vertical-align: middle;\n",
       "    }\n",
       "\n",
       "    .dataframe tbody tr th {\n",
       "        vertical-align: top;\n",
       "    }\n",
       "\n",
       "    .dataframe thead th {\n",
       "        text-align: right;\n",
       "    }\n",
       "</style>\n",
       "<table border=\"1\" class=\"dataframe\">\n",
       "  <thead>\n",
       "    <tr style=\"text-align: right;\">\n",
       "      <th></th>\n",
       "      <th>ISBN</th>\n",
       "      <th>Title</th>\n",
       "      <th>Author</th>\n",
       "      <th>Year</th>\n",
       "      <th>Publisher</th>\n",
       "    </tr>\n",
       "  </thead>\n",
       "  <tbody>\n",
       "    <tr>\n",
       "      <th>0</th>\n",
       "      <td>0195153448</td>\n",
       "      <td>Classical Mythology</td>\n",
       "      <td>Mark P. O. Morford</td>\n",
       "      <td>2002</td>\n",
       "      <td>Oxford University Press</td>\n",
       "    </tr>\n",
       "    <tr>\n",
       "      <th>1</th>\n",
       "      <td>0002005018</td>\n",
       "      <td>Clara Callan</td>\n",
       "      <td>Richard Bruce Wright</td>\n",
       "      <td>2001</td>\n",
       "      <td>HarperFlamingo Canada</td>\n",
       "    </tr>\n",
       "    <tr>\n",
       "      <th>2</th>\n",
       "      <td>0060973129</td>\n",
       "      <td>Decision in Normandy</td>\n",
       "      <td>Carlo D'Este</td>\n",
       "      <td>1991</td>\n",
       "      <td>HarperPerennial</td>\n",
       "    </tr>\n",
       "    <tr>\n",
       "      <th>3</th>\n",
       "      <td>0374157065</td>\n",
       "      <td>Flu: The Story of the Great Influenza Pandemic...</td>\n",
       "      <td>Gina Bari Kolata</td>\n",
       "      <td>1999</td>\n",
       "      <td>Farrar Straus Giroux</td>\n",
       "    </tr>\n",
       "    <tr>\n",
       "      <th>4</th>\n",
       "      <td>0393045218</td>\n",
       "      <td>The Mummies of Urumchi</td>\n",
       "      <td>E. J. W. Barber</td>\n",
       "      <td>1999</td>\n",
       "      <td>W. W. Norton &amp; Company</td>\n",
       "    </tr>\n",
       "  </tbody>\n",
       "</table>\n",
       "</div>"
      ],
      "text/plain": [
       "         ISBN                                              Title  \\\n",
       "0  0195153448                                Classical Mythology   \n",
       "1  0002005018                                       Clara Callan   \n",
       "2  0060973129                               Decision in Normandy   \n",
       "3  0374157065  Flu: The Story of the Great Influenza Pandemic...   \n",
       "4  0393045218                             The Mummies of Urumchi   \n",
       "\n",
       "                 Author  Year                Publisher  \n",
       "0    Mark P. O. Morford  2002  Oxford University Press  \n",
       "1  Richard Bruce Wright  2001    HarperFlamingo Canada  \n",
       "2          Carlo D'Este  1991          HarperPerennial  \n",
       "3      Gina Bari Kolata  1999     Farrar Straus Giroux  \n",
       "4       E. J. W. Barber  1999   W. W. Norton & Company  "
      ]
     },
     "metadata": {},
     "output_type": "display_data"
    },
    {
     "name": "stdout",
     "output_type": "stream",
     "text": [
      "\n",
      "Info:\n",
      "<class 'pandas.core.frame.DataFrame'>\n",
      "RangeIndex: 271379 entries, 0 to 271378\n",
      "Data columns (total 5 columns):\n",
      " #   Column     Non-Null Count   Dtype \n",
      "---  ------     --------------   ----- \n",
      " 0   ISBN       271379 non-null  object\n",
      " 1   Title      271379 non-null  object\n",
      " 2   Author     271377 non-null  object\n",
      " 3   Year       271379 non-null  int64 \n",
      " 4   Publisher  271377 non-null  object\n",
      "dtypes: int64(1), object(4)\n",
      "memory usage: 10.4+ MB\n",
      "None\n",
      "\n",
      "Books Missing Values\n",
      "ISBN         0\n",
      "Title        0\n",
      "Author       2\n",
      "Year         0\n",
      "Publisher    2\n",
      "dtype: int64\n",
      "\n",
      "\n",
      " Ratings Dataset\n",
      "----------\n",
      "Shape: (1149780, 3)\n",
      "Columns: ['User-ID', 'ISBN', 'Rating']\n",
      "\n",
      "Head:\n"
     ]
    },
    {
     "data": {
      "text/html": [
       "<div>\n",
       "<style scoped>\n",
       "    .dataframe tbody tr th:only-of-type {\n",
       "        vertical-align: middle;\n",
       "    }\n",
       "\n",
       "    .dataframe tbody tr th {\n",
       "        vertical-align: top;\n",
       "    }\n",
       "\n",
       "    .dataframe thead th {\n",
       "        text-align: right;\n",
       "    }\n",
       "</style>\n",
       "<table border=\"1\" class=\"dataframe\">\n",
       "  <thead>\n",
       "    <tr style=\"text-align: right;\">\n",
       "      <th></th>\n",
       "      <th>User-ID</th>\n",
       "      <th>ISBN</th>\n",
       "      <th>Rating</th>\n",
       "    </tr>\n",
       "  </thead>\n",
       "  <tbody>\n",
       "    <tr>\n",
       "      <th>0</th>\n",
       "      <td>276725</td>\n",
       "      <td>034545104X</td>\n",
       "      <td>0</td>\n",
       "    </tr>\n",
       "    <tr>\n",
       "      <th>1</th>\n",
       "      <td>276726</td>\n",
       "      <td>0155061224</td>\n",
       "      <td>5</td>\n",
       "    </tr>\n",
       "    <tr>\n",
       "      <th>2</th>\n",
       "      <td>276727</td>\n",
       "      <td>0446520802</td>\n",
       "      <td>0</td>\n",
       "    </tr>\n",
       "    <tr>\n",
       "      <th>3</th>\n",
       "      <td>276729</td>\n",
       "      <td>052165615X</td>\n",
       "      <td>3</td>\n",
       "    </tr>\n",
       "    <tr>\n",
       "      <th>4</th>\n",
       "      <td>276729</td>\n",
       "      <td>0521795028</td>\n",
       "      <td>6</td>\n",
       "    </tr>\n",
       "  </tbody>\n",
       "</table>\n",
       "</div>"
      ],
      "text/plain": [
       "   User-ID        ISBN  Rating\n",
       "0   276725  034545104X       0\n",
       "1   276726  0155061224       5\n",
       "2   276727  0446520802       0\n",
       "3   276729  052165615X       3\n",
       "4   276729  0521795028       6"
      ]
     },
     "metadata": {},
     "output_type": "display_data"
    },
    {
     "name": "stdout",
     "output_type": "stream",
     "text": [
      "\n",
      "Info:\n",
      "<class 'pandas.core.frame.DataFrame'>\n",
      "RangeIndex: 1149780 entries, 0 to 1149779\n",
      "Data columns (total 3 columns):\n",
      " #   Column   Non-Null Count    Dtype \n",
      "---  ------   --------------    ----- \n",
      " 0   User-ID  1149780 non-null  int64 \n",
      " 1   ISBN     1149780 non-null  object\n",
      " 2   Rating   1149780 non-null  int64 \n",
      "dtypes: int64(2), object(1)\n",
      "memory usage: 26.3+ MB\n",
      "None\n",
      "\n",
      "Ratings Missing Values\n",
      "User-ID    0\n",
      "ISBN       0\n",
      "Rating     0\n",
      "dtype: int64\n",
      "\n",
      "\n",
      " Users Dataset\n",
      "----------\n",
      "Shape: (278859, 2)\n",
      "Columns: ['User-ID', 'Age']\n",
      "\n",
      "Head:\n"
     ]
    },
    {
     "data": {
      "text/html": [
       "<div>\n",
       "<style scoped>\n",
       "    .dataframe tbody tr th:only-of-type {\n",
       "        vertical-align: middle;\n",
       "    }\n",
       "\n",
       "    .dataframe tbody tr th {\n",
       "        vertical-align: top;\n",
       "    }\n",
       "\n",
       "    .dataframe thead th {\n",
       "        text-align: right;\n",
       "    }\n",
       "</style>\n",
       "<table border=\"1\" class=\"dataframe\">\n",
       "  <thead>\n",
       "    <tr style=\"text-align: right;\">\n",
       "      <th></th>\n",
       "      <th>User-ID</th>\n",
       "      <th>Age</th>\n",
       "    </tr>\n",
       "  </thead>\n",
       "  <tbody>\n",
       "    <tr>\n",
       "      <th>0</th>\n",
       "      <td>1</td>\n",
       "      <td>NaN</td>\n",
       "    </tr>\n",
       "    <tr>\n",
       "      <th>1</th>\n",
       "      <td>2</td>\n",
       "      <td>18</td>\n",
       "    </tr>\n",
       "    <tr>\n",
       "      <th>2</th>\n",
       "      <td>3</td>\n",
       "      <td>NaN</td>\n",
       "    </tr>\n",
       "    <tr>\n",
       "      <th>3</th>\n",
       "      <td>4</td>\n",
       "      <td>17</td>\n",
       "    </tr>\n",
       "    <tr>\n",
       "      <th>4</th>\n",
       "      <td>5</td>\n",
       "      <td>NaN</td>\n",
       "    </tr>\n",
       "  </tbody>\n",
       "</table>\n",
       "</div>"
      ],
      "text/plain": [
       "  User-ID  Age\n",
       "0       1  NaN\n",
       "1       2   18\n",
       "2       3  NaN\n",
       "3       4   17\n",
       "4       5  NaN"
      ]
     },
     "metadata": {},
     "output_type": "display_data"
    },
    {
     "name": "stdout",
     "output_type": "stream",
     "text": [
      "\n",
      "Info:\n",
      "<class 'pandas.core.frame.DataFrame'>\n",
      "RangeIndex: 278859 entries, 0 to 278858\n",
      "Data columns (total 2 columns):\n",
      " #   Column   Non-Null Count   Dtype \n",
      "---  ------   --------------   ----- \n",
      " 0   User-ID  278859 non-null  object\n",
      " 1   Age      168627 non-null  object\n",
      "dtypes: object(2)\n",
      "memory usage: 4.3+ MB\n",
      "None\n",
      "\n",
      "Users Missing Values\n",
      "User-ID         0\n",
      "Age        110232\n",
      "dtype: int64\n",
      "\n"
     ]
    }
   ],
   "source": [
    "datasets = {\n",
    "    \"Books\": books_df,\n",
    "    \"Ratings\": ratings_df,\n",
    "    \"Users\": users_df\n",
    "}\n",
    "\n",
    "for name, df in datasets.items():\n",
    "    print(f\"\\n {name} Dataset\")\n",
    "    print(\"-\" * 10)\n",
    "    print(f\"Shape: {df.shape}\")\n",
    "    print(f\"Columns: {list(df.columns)}\")\n",
    "    print(\"\\nHead:\")\n",
    "    display(df.head())\n",
    "    print(\"\\nInfo:\")\n",
    "    print(df.info())\n",
    "    print(f\"\\n{name} Missing Values\")\n",
    "    print(df.isnull().sum())\n",
    "    print(\"=\" * 0)\n"
   ]
  },
  {
   "cell_type": "code",
   "execution_count": 39,
   "id": "d5878bda",
   "metadata": {},
   "outputs": [
    {
     "name": "stdout",
     "output_type": "stream",
     "text": [
      "Number of duplicate ISBNs: 1\n"
     ]
    }
   ],
   "source": [
    "duplicate_isbn_count = books_df['ISBN'].duplicated().sum()\n",
    "print(f\"Number of duplicate ISBNs: {duplicate_isbn_count}\")\n"
   ]
  },
  {
   "cell_type": "code",
   "execution_count": 40,
   "id": "1de732d9",
   "metadata": {},
   "outputs": [
    {
     "name": "stdout",
     "output_type": "stream",
     "text": [
      "Duplicate ISBN examples:\n",
      "\n"
     ]
    },
    {
     "data": {
      "text/html": [
       "<div>\n",
       "<style scoped>\n",
       "    .dataframe tbody tr th:only-of-type {\n",
       "        vertical-align: middle;\n",
       "    }\n",
       "\n",
       "    .dataframe tbody tr th {\n",
       "        vertical-align: top;\n",
       "    }\n",
       "\n",
       "    .dataframe thead th {\n",
       "        text-align: right;\n",
       "    }\n",
       "</style>\n",
       "<table border=\"1\" class=\"dataframe\">\n",
       "  <thead>\n",
       "    <tr style=\"text-align: right;\">\n",
       "      <th></th>\n",
       "      <th>ISBN</th>\n",
       "      <th>Title</th>\n",
       "      <th>Author</th>\n",
       "      <th>Year</th>\n",
       "      <th>Publisher</th>\n",
       "    </tr>\n",
       "  </thead>\n",
       "  <tbody>\n",
       "    <tr>\n",
       "      <th>111658</th>\n",
       "      <td>0486404242</td>\n",
       "      <td>War in Kind: And Other Poems (Dover Thrift Edi...</td>\n",
       "      <td>Stephen Crane</td>\n",
       "      <td>1998</td>\n",
       "      <td>Dover Publications</td>\n",
       "    </tr>\n",
       "    <tr>\n",
       "      <th>111813</th>\n",
       "      <td>0486404242</td>\n",
       "      <td>War in Kind: And Other Poems (Dover Thrift Edi...</td>\n",
       "      <td>Stephen Crane</td>\n",
       "      <td>1998</td>\n",
       "      <td>Dover Publications</td>\n",
       "    </tr>\n",
       "  </tbody>\n",
       "</table>\n",
       "</div>"
      ],
      "text/plain": [
       "              ISBN                                              Title  \\\n",
       "111658  0486404242  War in Kind: And Other Poems (Dover Thrift Edi...   \n",
       "111813  0486404242  War in Kind: And Other Poems (Dover Thrift Edi...   \n",
       "\n",
       "               Author  Year           Publisher  \n",
       "111658  Stephen Crane  1998  Dover Publications  \n",
       "111813  Stephen Crane  1998  Dover Publications  "
      ]
     },
     "metadata": {},
     "output_type": "display_data"
    }
   ],
   "source": [
    "duplicate_isbns = books_df[books_df['ISBN'].duplicated(keep=False)]\n",
    "print(f\"Duplicate ISBN examples:\\n\")\n",
    "display(duplicate_isbns.sort_values('ISBN').head(10))\n"
   ]
  },
  {
   "cell_type": "code",
   "execution_count": 41,
   "id": "dcc5fd31",
   "metadata": {},
   "outputs": [],
   "source": [
    "books_df = books_df.drop_duplicates(subset='ISBN', keep='first')"
   ]
  },
  {
   "cell_type": "code",
   "execution_count": 42,
   "id": "b76f8ec1",
   "metadata": {},
   "outputs": [],
   "source": [
    "valid_isbns = set(books_df['ISBN'])\n",
    "ratings_df = ratings_df[ratings_df['ISBN'].isin(valid_isbns)]"
   ]
  },
  {
   "cell_type": "code",
   "execution_count": 43,
   "id": "1b473df2",
   "metadata": {},
   "outputs": [
    {
     "name": "stdout",
     "output_type": "stream",
     "text": [
      "Number of duplicate ISBNs: 0\n"
     ]
    }
   ],
   "source": [
    "duplicate_isbn_count = books_df['ISBN'].duplicated().sum()\n",
    "print(f\"Number of duplicate ISBNs: {duplicate_isbn_count}\")\n"
   ]
  },
  {
   "cell_type": "code",
   "execution_count": 44,
   "id": "528dcfc3",
   "metadata": {},
   "outputs": [
    {
     "name": "stdout",
     "output_type": "stream",
     "text": [
      "Number of missing (NaN) Year values: 0\n",
      "Min Year: 0\n",
      "Max Year: 2050\n",
      "\n",
      "Lowest 5 Years:\n"
     ]
    },
    {
     "data": {
      "text/html": [
       "<div>\n",
       "<style scoped>\n",
       "    .dataframe tbody tr th:only-of-type {\n",
       "        vertical-align: middle;\n",
       "    }\n",
       "\n",
       "    .dataframe tbody tr th {\n",
       "        vertical-align: top;\n",
       "    }\n",
       "\n",
       "    .dataframe thead th {\n",
       "        text-align: right;\n",
       "    }\n",
       "</style>\n",
       "<table border=\"1\" class=\"dataframe\">\n",
       "  <thead>\n",
       "    <tr style=\"text-align: right;\">\n",
       "      <th></th>\n",
       "      <th>ISBN</th>\n",
       "      <th>Title</th>\n",
       "      <th>Author</th>\n",
       "      <th>Year</th>\n",
       "      <th>Publisher</th>\n",
       "    </tr>\n",
       "  </thead>\n",
       "  <tbody>\n",
       "    <tr>\n",
       "      <th>136816</th>\n",
       "      <td>0771557000</td>\n",
       "      <td>Great Expectations</td>\n",
       "      <td>Charles Dickens</td>\n",
       "      <td>0</td>\n",
       "      <td>Gage Publishing Ltd</td>\n",
       "    </tr>\n",
       "    <tr>\n",
       "      <th>110434</th>\n",
       "      <td>0340425636</td>\n",
       "      <td>You Only Live Twice</td>\n",
       "      <td>Ian Fleming</td>\n",
       "      <td>0</td>\n",
       "      <td>Trafalgar Square</td>\n",
       "    </tr>\n",
       "    <tr>\n",
       "      <th>184966</th>\n",
       "      <td>2253031208</td>\n",
       "      <td>L' Eglise Verte (Le Livre De Poche)</td>\n",
       "      <td>Herve Bazin</td>\n",
       "      <td>0</td>\n",
       "      <td>Livre de Poche</td>\n",
       "    </tr>\n",
       "    <tr>\n",
       "      <th>184970</th>\n",
       "      <td>227723981X</td>\n",
       "      <td>Maman a Un Amant</td>\n",
       "      <td>Beyala</td>\n",
       "      <td>0</td>\n",
       "      <td>Editions 84</td>\n",
       "    </tr>\n",
       "    <tr>\n",
       "      <th>184973</th>\n",
       "      <td>0330300059</td>\n",
       "      <td>Before She Met Me</td>\n",
       "      <td>Julian Barnes</td>\n",
       "      <td>0</td>\n",
       "      <td>Pan Books Ltd</td>\n",
       "    </tr>\n",
       "  </tbody>\n",
       "</table>\n",
       "</div>"
      ],
      "text/plain": [
       "              ISBN                                Title           Author  \\\n",
       "136816  0771557000                   Great Expectations  Charles Dickens   \n",
       "110434  0340425636                  You Only Live Twice      Ian Fleming   \n",
       "184966  2253031208  L' Eglise Verte (Le Livre De Poche)      Herve Bazin   \n",
       "184970  227723981X                     Maman a Un Amant           Beyala   \n",
       "184973  0330300059                    Before She Met Me    Julian Barnes   \n",
       "\n",
       "        Year            Publisher  \n",
       "136816     0  Gage Publishing Ltd  \n",
       "110434     0     Trafalgar Square  \n",
       "184966     0       Livre de Poche  \n",
       "184970     0          Editions 84  \n",
       "184973     0        Pan Books Ltd  "
      ]
     },
     "metadata": {},
     "output_type": "display_data"
    },
    {
     "name": "stdout",
     "output_type": "stream",
     "text": [
      "\n",
      "Highest 5 Years:\n"
     ]
    },
    {
     "data": {
      "text/html": [
       "<div>\n",
       "<style scoped>\n",
       "    .dataframe tbody tr th:only-of-type {\n",
       "        vertical-align: middle;\n",
       "    }\n",
       "\n",
       "    .dataframe tbody tr th {\n",
       "        vertical-align: top;\n",
       "    }\n",
       "\n",
       "    .dataframe thead th {\n",
       "        text-align: right;\n",
       "    }\n",
       "</style>\n",
       "<table border=\"1\" class=\"dataframe\">\n",
       "  <thead>\n",
       "    <tr style=\"text-align: right;\">\n",
       "      <th></th>\n",
       "      <th>ISBN</th>\n",
       "      <th>Title</th>\n",
       "      <th>Author</th>\n",
       "      <th>Year</th>\n",
       "      <th>Publisher</th>\n",
       "    </tr>\n",
       "  </thead>\n",
       "  <tbody>\n",
       "    <tr>\n",
       "      <th>80267</th>\n",
       "      <td>0140301690</td>\n",
       "      <td>Alice's Adventures in Wonderland and Through t...</td>\n",
       "      <td>Lewis Carroll</td>\n",
       "      <td>2050</td>\n",
       "      <td>Puffin Books</td>\n",
       "    </tr>\n",
       "    <tr>\n",
       "      <th>97830</th>\n",
       "      <td>0140201092</td>\n",
       "      <td>Outline of European Architecture (Pelican S.)</td>\n",
       "      <td>Nikolaus Pevsner</td>\n",
       "      <td>2050</td>\n",
       "      <td>Penguin USA</td>\n",
       "    </tr>\n",
       "    <tr>\n",
       "      <th>116058</th>\n",
       "      <td>0394701658</td>\n",
       "      <td>Three Plays of Eugene Oneill</td>\n",
       "      <td>Eugene O'Neill</td>\n",
       "      <td>2038</td>\n",
       "      <td>Vintage Books USA</td>\n",
       "    </tr>\n",
       "    <tr>\n",
       "      <th>255426</th>\n",
       "      <td>068471809X</td>\n",
       "      <td>To Have and Have Not</td>\n",
       "      <td>Ernest Hemingway</td>\n",
       "      <td>2037</td>\n",
       "      <td>Simon &amp; Schuster</td>\n",
       "    </tr>\n",
       "    <tr>\n",
       "      <th>78171</th>\n",
       "      <td>0870449842</td>\n",
       "      <td>Crossing America</td>\n",
       "      <td>National Geographic Society</td>\n",
       "      <td>2030</td>\n",
       "      <td>National Geographic</td>\n",
       "    </tr>\n",
       "  </tbody>\n",
       "</table>\n",
       "</div>"
      ],
      "text/plain": [
       "              ISBN                                              Title  \\\n",
       "80267   0140301690  Alice's Adventures in Wonderland and Through t...   \n",
       "97830   0140201092      Outline of European Architecture (Pelican S.)   \n",
       "116058  0394701658                       Three Plays of Eugene Oneill   \n",
       "255426  068471809X                               To Have and Have Not   \n",
       "78171   0870449842                                   Crossing America   \n",
       "\n",
       "                             Author  Year            Publisher  \n",
       "80267                 Lewis Carroll  2050         Puffin Books  \n",
       "97830              Nikolaus Pevsner  2050          Penguin USA  \n",
       "116058               Eugene O'Neill  2038    Vintage Books USA  \n",
       "255426             Ernest Hemingway  2037     Simon & Schuster  \n",
       "78171   National Geographic Society  2030  National Geographic  "
      ]
     },
     "metadata": {},
     "output_type": "display_data"
    }
   ],
   "source": [
    "null_years = books_df['Year'].isnull().sum()\n",
    "print(f\"Number of missing (NaN) Year values: {null_years}\")\n",
    "\n",
    "print(f\"Min Year: {books_df['Year'].min()}\")\n",
    "print(f\"Max Year: {books_df['Year'].max()}\")\n",
    "\n",
    "print(\"\\nLowest 5 Years:\")\n",
    "display(books_df.sort_values('Year').head())\n",
    "\n",
    "print(\"\\nHighest 5 Years:\")\n",
    "display(books_df.sort_values('Year', ascending=False).head())"
   ]
  },
  {
   "cell_type": "code",
   "execution_count": 45,
   "id": "936d04bc",
   "metadata": {},
   "outputs": [],
   "source": [
    "import datetime"
   ]
  },
  {
   "cell_type": "code",
   "execution_count": 46,
   "id": "92a40722",
   "metadata": {},
   "outputs": [],
   "source": [
    "#datasetin toplandığı tarih 2004\n",
    "today_year = datetime.datetime.now().year\n",
    "cutoff_year_strict = 2004\n",
    "cutoff_year_soft = 2007"
   ]
  },
  {
   "cell_type": "code",
   "execution_count": 47,
   "id": "20b7eb77",
   "metadata": {},
   "outputs": [],
   "source": [
    "books_df_soft = books_df.copy()\n",
    "books_df_strict = books_df.copy()"
   ]
  },
  {
   "cell_type": "code",
   "execution_count": 48,
   "id": "0b7a7378",
   "metadata": {},
   "outputs": [],
   "source": [
    "books_df_soft['Year'] = books_df_soft['Year'].replace(0, pd.NA)\n",
    "books_df_strict['Year'] = books_df_strict['Year'].replace(0, pd.NA)"
   ]
  },
  {
   "cell_type": "code",
   "execution_count": 49,
   "id": "4b27be55",
   "metadata": {},
   "outputs": [],
   "source": [
    "books_df_strict = books_df_strict[\n",
    "    (books_df_strict['Year'].notna()) &\n",
    "    (books_df_strict['Year'] <= cutoff_year_strict)\n",
    "]"
   ]
  },
  {
   "cell_type": "code",
   "execution_count": 50,
   "id": "d0208f04",
   "metadata": {},
   "outputs": [],
   "source": [
    "books_df_soft = books_df_soft[books_df_soft['Year'].notna() & (books_df_soft['Year'] <= cutoff_year_soft)]\n",
    "books_df_soft['Suspect_Year'] = books_df_soft['Year'] > cutoff_year_strict"
   ]
  },
  {
   "cell_type": "code",
   "execution_count": 51,
   "id": "d740d69c",
   "metadata": {},
   "outputs": [
    {
     "name": "stdout",
     "output_type": "stream",
     "text": [
      "Strict cleaned books shape: (266687, 5)\n",
      "Soft cleaned books shape: (266736, 6)\n",
      "Number of suspect years in soft version: 49\n"
     ]
    }
   ],
   "source": [
    "print(f\"Strict cleaned books shape: {books_df_strict.shape}\")\n",
    "print(f\"Soft cleaned books shape: {books_df_soft.shape}\")\n",
    "\n",
    "print(f\"Number of suspect years in soft version: {books_df_soft['Suspect_Year'].sum()}\")\n"
   ]
  },
  {
   "cell_type": "code",
   "execution_count": 52,
   "id": "8da4156e",
   "metadata": {},
   "outputs": [
    {
     "data": {
      "image/png": "[encoded data removed]",
      "text/plain": [
       "<Figure size 640x480 with 1 Axes>"
      ]
     },
     "metadata": {},
     "output_type": "display_data"
    }
   ],
   "source": [
    "import matplotlib.pyplot as plt\n",
    "\n",
    "ratings_df['Rating'].value_counts().sort_index().plot(kind='bar')\n",
    "plt.title(\"Distribution of Book Ratings (0–10)\")\n",
    "plt.xlabel(\"Rating\")\n",
    "plt.ylabel(\"Count\")\n",
    "plt.grid(True)\n",
    "plt.show()\n"
   ]
  },
  {
   "cell_type": "code",
   "execution_count": 53,
   "id": "f04c4024",
   "metadata": {},
   "outputs": [],
   "source": [
    "ratings_df_explicit = ratings_df[ratings_df['Rating'] > 0]\n"
   ]
  },
  {
   "cell_type": "code",
   "execution_count": 54,
   "id": "dfbc2925",
   "metadata": {},
   "outputs": [],
   "source": [
    "active_users = ratings_df['User-ID'].value_counts()\n",
    "active_users = active_users[active_users >= 10].index\n",
    "ratings_df = ratings_df[ratings_df['User-ID'].isin(active_users)]"
   ]
  },
  {
   "cell_type": "code",
   "execution_count": 55,
   "id": "cc940412",
   "metadata": {},
   "outputs": [],
   "source": [
    "popular_books = ratings_df['ISBN'].value_counts()\n",
    "popular_books = popular_books[popular_books >= 10].index\n",
    "ratings_df = ratings_df[ratings_df['ISBN'].isin(popular_books)]"
   ]
  },
  {
   "cell_type": "code",
   "execution_count": 56,
   "id": "89ba90f6",
   "metadata": {},
   "outputs": [],
   "source": [
    "books_df = books_df[books_df['ISBN'].isin(ratings_df['ISBN'])]\n",
    "users_df = users_df[users_df['User-ID'].isin(ratings_df['User-ID'])]"
   ]
  },
  {
   "cell_type": "code",
   "execution_count": 57,
   "id": "dbfbb017",
   "metadata": {},
   "outputs": [
    {
     "name": "stderr",
     "output_type": "stream",
     "text": [
      "C:\\Users\\ŞEVKET\\AppData\\Local\\Temp\\ipykernel_11840\\60094083.py:1: SettingWithCopyWarning: \n",
      "A value is trying to be set on a copy of a slice from a DataFrame.\n",
      "Try using .loc[row_indexer,col_indexer] = value instead\n",
      "\n",
      "See the caveats in the documentation: https://pandas.pydata.org/pandas-docs/stable/user_guide/indexing.html#returning-a-view-versus-a-copy\n",
      "  users_df['Age'] = pd.to_numeric(users_df['Age'], errors='coerce')\n"
     ]
    }
   ],
   "source": [
    "users_df['Age'] = pd.to_numeric(users_df['Age'], errors='coerce')\n"
   ]
  },
  {
   "cell_type": "code",
   "execution_count": 58,
   "id": "57ffff98",
   "metadata": {},
   "outputs": [],
   "source": [
    "users_df.loc[(users_df['Age'] < 5) | (users_df['Age'] > 100), 'Age'] = pd.NA"
   ]
  },
  {
   "cell_type": "code",
   "execution_count": 59,
   "id": "81a11764",
   "metadata": {},
   "outputs": [],
   "source": [
    "# users_df['Age'].fillna(users_df['Age'].median(), inplace=True)"
   ]
  },
  {
   "cell_type": "code",
   "execution_count": 60,
   "id": "bb3a57ef",
   "metadata": {},
   "outputs": [
    {
     "name": "stdout",
     "output_type": "stream",
     "text": [
      "books_df_strict shape: (266687, 5)\n",
      "books_df_soft shape: (266736, 6)\n",
      "books_df_soft suspect years: 49\n"
     ]
    },
    {
     "data": {
      "image/png": "[encoded data removed]",
      "text/plain": [
       "<Figure size 640x480 with 1 Axes>"
      ]
     },
     "metadata": {},
     "output_type": "display_data"
    },
    {
     "data": {
      "image/png": "[encoded data removed]",
      "text/plain": [
       "<Figure size 640x480 with 1 Axes>"
      ]
     },
     "metadata": {},
     "output_type": "display_data"
    }
   ],
   "source": [
    "print(f\"books_df_strict shape: {books_df_strict.shape}\")\n",
    "print(f\"books_df_soft shape: {books_df_soft.shape}\")\n",
    "print(f\"books_df_soft suspect years: {books_df_soft['Suspect_Year'].sum()}\")\n",
    "\n",
    "books_df_strict['Year'].hist(bins=30)\n",
    "plt.title(\"Year Distribution (Strict)\")\n",
    "plt.show()\n",
    "\n",
    "books_df_soft['Year'].hist(bins=30)\n",
    "plt.title(\"Year Distribution (Soft)\")\n",
    "plt.show()\n"
   ]
  },
  {
   "cell_type": "code",
   "execution_count": 61,
   "id": "e50c5c73",
   "metadata": {},
   "outputs": [
    {
     "name": "stdout",
     "output_type": "stream",
     "text": [
      "ratings_df shape: (405308, 3)\n",
      "Rating value counts:\n",
      "Rating\n",
      "0     269604\n",
      "1        419\n",
      "2        754\n",
      "3       1580\n",
      "4       2337\n",
      "5      13614\n",
      "6      10465\n",
      "7      22886\n",
      "8      33293\n",
      "9      23802\n",
      "10     26554\n",
      "Name: count, dtype: int64\n",
      "Unique users: 11526\n",
      "Unique books: 14617\n"
     ]
    },
    {
     "data": {
      "image/png": "[encoded data removed]",
      "text/plain": [
       "<Figure size 640x480 with 1 Axes>"
      ]
     },
     "metadata": {},
     "output_type": "display_data"
    }
   ],
   "source": [
    "print(f\"ratings_df shape: {ratings_df.shape}\")\n",
    "print(\"Rating value counts:\")\n",
    "print(ratings_df['Rating'].value_counts().sort_index())\n",
    "\n",
    "print(\"Unique users:\", ratings_df['User-ID'].nunique())\n",
    "print(\"Unique books:\", ratings_df['ISBN'].nunique())\n",
    "\n",
    "ratings_df['Rating'].hist(bins=11)\n",
    "plt.title(\"Rating Distribution\")\n",
    "plt.show()\n"
   ]
  },
  {
   "cell_type": "code",
   "execution_count": 62,
   "id": "c2730346",
   "metadata": {},
   "outputs": [
    {
     "name": "stdout",
     "output_type": "stream",
     "text": [
      "users_df shape: (10838, 2)\n",
      "Number of users with known Age: 7648\n"
     ]
    },
    {
     "data": {
      "image/png": "[encoded data removed]",
      "text/plain": [
       "<Figure size 640x480 with 1 Axes>"
      ]
     },
     "metadata": {},
     "output_type": "display_data"
    }
   ],
   "source": [
    "print(f\"users_df shape: {users_df.shape}\")\n",
    "print(f\"Number of users with known Age: {users_df['Age'].notna().sum()}\")\n",
    "\n",
    "users_df['Age'].hist(bins=20)\n",
    "plt.title(\"Age Distribution (cleaned)\")\n",
    "plt.show()\n"
   ]
  },
  {
   "cell_type": "code",
   "execution_count": 63,
   "id": "ca3ccce7",
   "metadata": {},
   "outputs": [
    {
     "name": "stdout",
     "output_type": "stream",
     "text": [
      "ratings_df_explicit shape: (383852, 3)\n",
      "Unique users: 68092\n",
      "Unique books: 149842\n"
     ]
    }
   ],
   "source": [
    "print(f\"ratings_df_explicit shape: {ratings_df_explicit.shape}\")\n",
    "print(\"Unique users:\", ratings_df_explicit['User-ID'].nunique())\n",
    "print(\"Unique books:\", ratings_df_explicit['ISBN'].nunique())\n"
   ]
  },
  {
   "cell_type": "code",
   "execution_count": 64,
   "id": "c53c12fc",
   "metadata": {},
   "outputs": [
    {
     "data": {
      "image/png": "[encoded data removed]",
      "text/plain": [
       "<Figure size 640x480 with 1 Axes>"
      ]
     },
     "metadata": {},
     "output_type": "display_data"
    }
   ],
   "source": [
    "ratings_df_explicit['Rating'].value_counts().sort_index().plot(kind='bar')\n",
    "plt.title(\"Explicit Rating Distribution (1–10)\")\n",
    "plt.xlabel(\"Rating\")\n",
    "plt.ylabel(\"Count\")\n",
    "plt.grid(True)\n",
    "plt.show()\n"
   ]
  },
  {
   "cell_type": "code",
   "execution_count": 65,
   "id": "c500b9f7",
   "metadata": {},
   "outputs": [
    {
     "name": "stdout",
     "output_type": "stream",
     "text": [
      "Avg. ratings per user: 5.64\n",
      "Users with 10+ ratings: 6589\n"
     ]
    }
   ],
   "source": [
    "user_rating_counts = ratings_df_explicit['User-ID'].value_counts()\n",
    "print(\"Avg. ratings per user:\", round(user_rating_counts.mean(), 2))\n",
    "print(\"Users with 10+ ratings:\", (user_rating_counts >= 10).sum())\n"
   ]
  },
  {
   "cell_type": "code",
   "execution_count": 66,
   "id": "adee4bcb",
   "metadata": {},
   "outputs": [
    {
     "name": "stdout",
     "output_type": "stream",
     "text": [
      "Avg. ratings per book: 2.56\n",
      "Books with 10+ ratings: 5444\n"
     ]
    }
   ],
   "source": [
    "book_rating_counts = ratings_df_explicit['ISBN'].value_counts()\n",
    "print(\"Avg. ratings per book:\", round(book_rating_counts.mean(), 2))\n",
    "print(\"Books with 10+ ratings:\", (book_rating_counts >= 10).sum())\n"
   ]
  },
  {
   "cell_type": "code",
   "execution_count": 67,
   "id": "d9638b55",
   "metadata": {},
   "outputs": [
    {
     "name": "stdout",
     "output_type": "stream",
     "text": [
      "Matrix density: 0.0038%\n"
     ]
    }
   ],
   "source": [
    "n_users = ratings_df_explicit['User-ID'].nunique()\n",
    "n_books = ratings_df_explicit['ISBN'].nunique()\n",
    "n_ratings = ratings_df_explicit.shape[0]\n",
    "\n",
    "density = n_ratings / (n_users * n_books)\n",
    "print(f\"Matrix density: {round(density * 100, 4)}%\")"
   ]
  },
  {
   "cell_type": "code",
   "execution_count": null,
   "id": "8b77b75c",
   "metadata": {},
   "outputs": [],
   "source": [
    "books_df.to_csv(\"../data/processed/books_final.csv\", index=False)\n",
    "books_df_strict.to_csv(\"../data/processed/books_clean_strict.csv\", index=False)\n",
    "books_df_soft.to_csv(\"../data/processed/books_clean_soft.csv\", index=False)\n",
    "\n",
    "ratings_df.to_csv(\"../data/processed/ratings_final.csv\", index=False)\n",
    "ratings_df_explicit.to_csv(\"../data/processed/ratings_explicit_only.csv\", index=False)\n",
    "\n",
    "users_df.to_csv(\"../data/processed/users_final.csv\", index=False)"
   ]
  },
  {
   "cell_type": "markdown",
   "id": "15b828dd",
   "metadata": {},
   "source": [
    "##  General Data Summary & Analysis – Book-Crossing Dataset\n",
    "\n",
    "###  Rating Distribution (Explicit)\n",
    "- Users predominantly give high ratings (7–10), with **8 being the most frequent** (~90k).\n",
    "- Very few low ratings (1–3), indicating **positive bias**.\n",
    "-  Suggests ranking metrics like `Precision@k`, `Recall@k`, `NDCG` instead of pure RMSE.\n",
    "\n",
    "---\n",
    "\n",
    "###  User & Book Activity\n",
    "| Metric                    | Value     |\n",
    "|---------------------------|-----------|\n",
    "| Unique users              | 68,092    |\n",
    "| Avg. ratings per user     | 5.64      |\n",
    "| Users with ≥10 ratings    | 6,589     |\n",
    "| Unique books              | 149,842   |\n",
    "| Avg. ratings per book     | 2.56      |\n",
    "| Books with ≥10 ratings    | 5,444     |\n",
    "\n",
    " Takeaway:\n",
    "- Majority of users and books are inactive\n",
    "- Risk of **cold-start** is high\n",
    "- Filtering by activity/popularity is essential\n",
    "\n",
    "---\n",
    "\n",
    "###  Matrix Sparsity\n",
    "- Total interactions: 383,852\n",
    "- Matrix shape: 68k × 149k → 10.1 billion potential cells\n",
    "- Actual filled cells: **0.0038%**\n",
    "-  **Extremely sparse dataset**\n",
    "\n",
    " Implication:\n",
    "- Matrix Factorization (SVD, ALS) may underperform\n",
    "- Use:\n",
    "  - Content-based hybrids\n",
    "  - Popularity-based fallbacks\n",
    "  - Advanced sampling techniques for deep models\n",
    "\n",
    "---\n",
    "\n",
    "###  Strategy Summary\n",
    "| Goal                          | Recommendation                    |\n",
    "|-------------------------------|------------------------------------|\n",
    "| Baseline model                | Top-N popularity by count or mean |\n",
    "| Explicit collaborative model  | SVD / NMF                         |\n",
    "| Implicit feedback model       | ALS / LightFM                     |\n",
    "| Cold-start solution           | Content-based filtering + fallback|\n",
    "| Evaluation metrics            | Ranking-based: NDCG, MAP, P@k     |\n",
    "\n",
    "---\n",
    "\n",
    "###  Notebook Conclusion\n",
    "- Dataset cleaned and filtered\n",
    "- Exported as CSV to `data/processed/`\n",
    "- Ready for modeling in `01_modeling_collab.ipynb` and beyond"
   ]
  }
 ],
 "metadata": {
  "kernelspec": {
   "display_name": "base",
   "language": "python",
   "name": "python3"
  },
  "language_info": {
   "codemirror_mode": {
    "name": "ipython",
    "version": 3
   },
   "file_extension": ".py",
   "mimetype": "text/x-python",
   "name": "python",
   "nbconvert_exporter": "python",
   "pygments_lexer": "ipython3",
   "version": "3.11.7"
  }
 },
 "nbformat": 4,
 "nbformat_minor": 5
}
